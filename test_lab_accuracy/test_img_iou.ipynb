{
 "cells": [
  {
   "cell_type": "code",
   "execution_count": 89,
   "metadata": {},
   "outputs": [],
   "source": [
    "import json\n",
    "import os\n",
    "import pandas as pd\n",
    "from pycocotools.coco import COCO\n",
    "from sklearn.metrics import cohen_kappa_score\n",
    "import numpy as np"
   ]
  },
  {
   "cell_type": "code",
   "execution_count": 90,
   "metadata": {},
   "outputs": [],
   "source": [
    "# Function to load a JSON file into a Python dictionary\n",
    "def load_json(file_path):\n",
    "    with open(file_path, 'r') as file:\n",
    "        return json.load(file)"
   ]
  },
  {
   "cell_type": "code",
   "execution_count": 91,
   "metadata": {},
   "outputs": [],
   "source": [
    "def calculate_iou(box1, box2):\n",
    "    # Extract x, y, w, h from the input boxes\n",
    "    \n",
    "    x1 = box1[0]\n",
    "    y1 = box1[1] \n",
    "    w1 = box1[2] \n",
    "    h1 = box1[3]\n",
    "    \n",
    "    x2 = box2[0]\n",
    "    y2 = box2[1] \n",
    "    w2 = box2[2] \n",
    "    h2 = box2[3]\n",
    "    \n",
    "    # Determine the coordinates of the intersection rectangle\n",
    "    x_intersect = max(x1, x2)\n",
    "    y_intersect = max(y1, y2)\n",
    "    w_intersect = min(x1 + w1, x2 + w2) - x_intersect\n",
    "    h_intersect = min(y1 + h1, y2 + h2) - y_intersect\n",
    "    \n",
    "    # Ensure the intersection width and height are non-negative\n",
    "    w_intersect = max(0, w_intersect)\n",
    "    h_intersect = max(0, h_intersect)\n",
    "    \n",
    "    # Compute the area of intersection rectangle\n",
    "    interArea = w_intersect * h_intersect\n",
    "    \n",
    "    # Compute the area of both the prediction and true bounding boxes\n",
    "    box1Area = w1 * h1\n",
    "    box2Area = w2 * h2\n",
    "    \n",
    "    # Compute the area of union\n",
    "    unionArea = box1Area + box2Area - interArea\n",
    "    \n",
    "    # Compute the Intersection over Union by dividing the intersection area by the union area\n",
    "    iou = interArea / unionArea if unionArea > 0 else 0.0\n",
    "    \n",
    "    return iou"
   ]
  },
  {
   "cell_type": "code",
   "execution_count": 92,
   "metadata": {},
   "outputs": [],
   "source": [
    "def get_coco_maps(f1, f2):\n",
    "\n",
    "    coco1 = COCO(f1)\n",
    "    coco2 = COCO(f2)\n",
    "\n",
    "    coco1_map = {}\n",
    "    images1 = coco1.loadImgs(coco1.getImgIds())\n",
    "    for img1 in images1:\n",
    "        img1_ann_list = []\n",
    "        bn = os.path.basename(img1[\"file_name\"])\n",
    "        img1_fn = bn.split(\"-\")[-2] + \"-\" + bn.split(\"-\")[-1]\n",
    "        anns1 = coco1.loadAnns(coco1.getAnnIds(img1[\"id\"]))\n",
    "        for ann1 in anns1:\n",
    "            img1_ann_list.append([ann1[\"bbox\"], ann1[\"category_id\"]])\n",
    "        coco1_map[img1_fn] = img1_ann_list\n",
    "        \n",
    "    coco2_map = {}\n",
    "    images2 = coco2.loadImgs(coco2.getImgIds())\n",
    "    for img2 in images2:\n",
    "        img2_ann_list = []\n",
    "        bn = os.path.basename(img2[\"file_name\"])\n",
    "        img2_fn = bn.split(\"-\")[-2] + \"-\" + bn.split(\"-\")[-1]\n",
    "        anns2 = coco2.loadAnns(coco2.getAnnIds(img2[\"id\"]))\n",
    "        for ann2 in anns2:\n",
    "            img2_ann_list.append([ann2[\"bbox\"], ann2[\"category_id\"]])\n",
    "        coco2_map[img2_fn] = img2_ann_list\n",
    "        \n",
    "    return coco1_map, coco2_map\n"
   ]
  },
  {
   "cell_type": "code",
   "execution_count": 93,
   "metadata": {},
   "outputs": [],
   "source": [
    "def get_master_list(cm1, cm2):\n",
    "\n",
    "    master_list = []\n",
    "\n",
    "    for key in cm1.keys():\n",
    "        data = []\n",
    "\n",
    "        for j, ann1 in enumerate(cm1[key]):\n",
    "            for k, ann2 in enumerate(cm2[key]):\n",
    "                if ann1[1] == ann2[1]:  \n",
    "                    iou_score = calculate_iou(ann1[0], ann2[0])  \n",
    "                    if iou_score > thold:\n",
    "                        data.append({\n",
    "                            'iou_score': iou_score,\n",
    "                            'index1': j,\n",
    "                            'index2': k\n",
    "                        })\n",
    "\n",
    "        df = pd.DataFrame(data, columns=['iou_score', 'index1', 'index2'])\n",
    "        df = df.sort_values(by='iou_score', ascending=False)\n",
    "        min_len = min(len(cm1[key]), len(cm2[key]))\n",
    "        max_len = max(len(cm1[key]), len(cm2[key]))\n",
    "        df = df.head(min_len).reset_index(drop=True)\n",
    "        master_list.append([key, min_len, max_len, df])\n",
    "\n",
    "    return master_list\n"
   ]
  },
  {
   "cell_type": "code",
   "execution_count": 94,
   "metadata": {},
   "outputs": [],
   "source": [
    "def write_metrics_to_file(master_list, output_directory):\n",
    "    if not os.path.exists(output_directory):\n",
    "        os.makedirs(output_directory)\n",
    "        \n",
    "    acc_list = []\n",
    "    avg_iou_list = []\n",
    "\n",
    "    output_file = os.path.join(output_directory, \"metrics.txt\")\n",
    "    with open(output_file, \"w\") as file:\n",
    "        file.write(\"PER IMAGE METRICS\\n\")\n",
    "        for img in master_list:\n",
    "            file.write(f\"{img[0]}\\n\")\n",
    "            acc = len(img[3])/img[2]\n",
    "            acc_list.append(acc)\n",
    "            file.write(f\"   accuracy: {acc}\\n\")\n",
    "            avg_iou = np.mean(img[3][\"iou_score\"])\n",
    "            avg_iou_list.append(avg_iou)\n",
    "            file.write(f\"   avg iou: {avg_iou}\\n\")\n",
    "\n",
    "        file.write(\"METRICS OVERALL\\n\")\n",
    "        file.write(f\"   avg accuracy for all: {np.mean(acc_list)}\\n\")\n",
    "        file.write(f\"   avg iou for all: {np.mean(avg_iou_list)}\\n\")"
   ]
  },
  {
   "cell_type": "code",
   "execution_count": 95,
   "metadata": {},
   "outputs": [],
   "source": [
    "in_f1 = \"/mnt/lts/nis_lab_research/data/coco_files/parts/coco/shah_b7_65454/result.json\"\n",
    "in_f2 = \"/mnt/lts/nis_lab_research/data/coco_files/parts/coco/shah_b7_65454/result.json\"\n",
    "\n",
    "out_dir = \"./output\"\n",
    "\n",
    "thold = .5\n"
   ]
  },
  {
   "cell_type": "code",
   "execution_count": 96,
   "metadata": {},
   "outputs": [
    {
     "name": "stdout",
     "output_type": "stream",
     "text": [
      "loading annotations into memory...\n",
      "Done (t=0.03s)\n",
      "creating index...\n",
      "index created!\n",
      "loading annotations into memory...\n",
      "Done (t=0.03s)\n",
      "creating index...\n",
      "index created!\n"
     ]
    }
   ],
   "source": [
    "coco1_map, coco2_map = get_coco_maps(in_f1, in_f2)\n",
    "master_list = get_master_list(coco1_map, coco2_map)\n",
    "write_metrics_to_file(master_list, out_dir)"
   ]
  }
 ],
 "metadata": {
  "kernelspec": {
   "display_name": "base",
   "language": "python",
   "name": "python3"
  },
  "language_info": {
   "codemirror_mode": {
    "name": "ipython",
    "version": 3
   },
   "file_extension": ".py",
   "mimetype": "text/x-python",
   "name": "python",
   "nbconvert_exporter": "python",
   "pygments_lexer": "ipython3",
   "version": "3.12.2"
  }
 },
 "nbformat": 4,
 "nbformat_minor": 2
}
