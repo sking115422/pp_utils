{
 "cells": [
  {
   "cell_type": "code",
   "execution_count": 13,
   "metadata": {},
   "outputs": [],
   "source": [
    "import os\n",
    "import pandas as pd"
   ]
  },
  {
   "cell_type": "code",
   "execution_count": 14,
   "metadata": {},
   "outputs": [],
   "source": [
    "def count_files_in_subdirs(in_dir):\n",
    "    file_counts = {}\n",
    "    total_files = 0\n",
    "    # Iterate over each subdirectory in the input directory\n",
    "    for subdir in os.listdir(in_dir):\n",
    "        subdir_path = os.path.join(in_dir, subdir)\n",
    "        if os.path.isdir(subdir_path):\n",
    "            # Count the number of files in the subdirectory\n",
    "            file_count = len(os.listdir(subdir_path))\n",
    "            file_counts[subdir] = file_count\n",
    "            total_files += file_count\n",
    "\n",
    "    # Sort the file_counts dictionary by file counts in descending order\n",
    "    sorted_file_counts = dict(sorted(file_counts.items(), key=lambda x: x[1], reverse=True))\n",
    "\n",
    "    # Create a DataFrame from the sorted results\n",
    "    df = pd.DataFrame(sorted_file_counts.items(), columns=['subdirectory', 'count'])\n",
    "    df['percent'] = (df['count'] / total_files) * 100 if total_files != 0 else 0\n",
    "\n",
    "    # Print the DataFrame\n",
    "    print(df)\n",
    "\n",
    "    # Print the total files across all subdirectories\n",
    "    print(f\"Total files across all subdirectories: {total_files}\")"
   ]
  },
  {
   "cell_type": "code",
   "execution_count": 15,
   "metadata": {},
   "outputs": [
    {
     "name": "stdout",
     "output_type": "stream",
     "text": [
      "          subdirectory   count    percent\n",
      "0       General Button  100322  71.720046\n",
      "1                 Logo   13559   9.693309\n",
      "2        Search Button    4393   3.140549\n",
      "3         Login Button    3785   2.705891\n",
      "4   Alert Notification    3283   2.347012\n",
      "5         Close Button    2473   1.767944\n",
      "6     Search Input Box    2390   1.708607\n",
      "7        Accept Button    1606   1.148127\n",
      "8        Advertisement    1224   0.875036\n",
      "9          Play Button     884   0.631970\n",
      "10               Video     864   0.617672\n",
      "11               Popup     821   0.586932\n",
      "12   General Input Box     727   0.519731\n",
      "13            Checkbox     723   0.516872\n",
      "14     Email Input Box     605   0.432514\n",
      "15     Download Button     593   0.423935\n",
      "16      Name Input Box     475   0.339577\n",
      "17  Password Input Box     285   0.203746\n",
      "18       Toggle Button     255   0.182299\n",
      "19        Allow Button     218   0.155848\n",
      "20       Submit Button     178   0.127252\n",
      "21     Phone Input Box      99   0.070775\n",
      "22       Click Captcha      96   0.068630\n",
      "23       Update Button      17   0.012153\n",
      "24        Text Captcha       3   0.002145\n",
      "25       Image Captcha       2   0.001430\n",
      "26   Address Input Box       0   0.000000\n",
      "Total files across all subdirectories: 139880\n"
     ]
    }
   ],
   "source": [
    "# Example usage\n",
    "in_dir = \"/mnt/lts/nis_lab_research/data/class_data/far_shah_b1-b5_b8_train_sqr\"\n",
    "count_files_in_subdirs(in_dir)"
   ]
  },
  {
   "cell_type": "markdown",
   "metadata": {},
   "source": []
  }
 ],
 "metadata": {
  "kernelspec": {
   "display_name": "base",
   "language": "python",
   "name": "python3"
  },
  "language_info": {
   "codemirror_mode": {
    "name": "ipython",
    "version": 3
   },
   "file_extension": ".py",
   "mimetype": "text/x-python",
   "name": "python",
   "nbconvert_exporter": "python",
   "pygments_lexer": "ipython3",
   "version": "3.12.1"
  }
 },
 "nbformat": 4,
 "nbformat_minor": 2
}
