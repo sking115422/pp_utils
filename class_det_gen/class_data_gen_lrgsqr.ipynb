{
 "cells": [
  {
   "cell_type": "markdown",
   "metadata": {},
   "source": [
    "# Data Generation Script for Training Classifiers"
   ]
  },
  {
   "cell_type": "markdown",
   "metadata": {},
   "source": [
    "## Imports"
   ]
  },
  {
   "cell_type": "code",
   "execution_count": 1,
   "metadata": {},
   "outputs": [],
   "source": [
    "import os\n",
    "import json\n",
    "import random\n",
    "import string\n",
    "from PIL import Image\n",
    "from joblib import Parallel, delayed\n",
    "import os\n",
    "from tqdm import tqdm\n"
   ]
  },
  {
   "cell_type": "markdown",
   "metadata": {},
   "source": [
    "## Global Variables"
   ]
  },
  {
   "cell_type": "code",
   "execution_count": 2,
   "metadata": {},
   "outputs": [],
   "source": [
    "in_dir = \"/mnt/nis_lab_research/data/coco_files/neg/far_shah_b1-b5_b8_train_neg\"\n",
    "out_dir = \"/mnt/nis_lab_research/data/class_data/neg/far_shah_b1-b5_b8_train_neg\"\n",
    "bg_color = \"white\"\n",
    "padding = 0.05\n",
    "border = 0\n",
    "num_units = -1\n",
    "backend = \"threading\""
   ]
  },
  {
   "cell_type": "markdown",
   "metadata": {},
   "source": [
    "## Preprocessing"
   ]
  },
  {
   "cell_type": "code",
   "execution_count": 3,
   "metadata": {},
   "outputs": [],
   "source": [
    "with open(os.path.join(in_dir, \"result.json\")) as f:\n",
    "    obj = json.load(f)"
   ]
  },
  {
   "cell_type": "code",
   "execution_count": 4,
   "metadata": {},
   "outputs": [],
   "source": [
    "img_list = obj[\"images\"]\n",
    "cat_list = obj[\"categories\"]\n",
    "ann_list = obj[\"annotations\"]"
   ]
  },
  {
   "cell_type": "code",
   "execution_count": 5,
   "metadata": {},
   "outputs": [
    {
     "data": {
      "text/plain": [
       "[{'id': 0, 'name': 'Accept Button'},\n",
       " {'id': 1, 'name': 'Address Input Box'},\n",
       " {'id': 2, 'name': 'Advertisement'},\n",
       " {'id': 3, 'name': 'Alert Notification'},\n",
       " {'id': 4, 'name': 'Allow Button'},\n",
       " {'id': 5, 'name': 'Checkbox'},\n",
       " {'id': 6, 'name': 'Click Captcha'},\n",
       " {'id': 7, 'name': 'Close Button'},\n",
       " {'id': 8, 'name': 'Download Button'},\n",
       " {'id': 9, 'name': 'Email Input Box'},\n",
       " {'id': 10, 'name': 'General Button'},\n",
       " {'id': 11, 'name': 'General Input Box'},\n",
       " {'id': 12, 'name': 'Image Captcha'},\n",
       " {'id': 13, 'name': 'Login Button'},\n",
       " {'id': 14, 'name': 'Logo'},\n",
       " {'id': 15, 'name': 'Name Input Box'},\n",
       " {'id': 16, 'name': 'Password Input Box'},\n",
       " {'id': 17, 'name': 'Phone Input Box'},\n",
       " {'id': 18, 'name': 'Play Button'},\n",
       " {'id': 19, 'name': 'Popup'},\n",
       " {'id': 20, 'name': 'Search Button'},\n",
       " {'id': 21, 'name': 'Search Input Box'},\n",
       " {'id': 22, 'name': 'Submit Button'},\n",
       " {'id': 23, 'name': 'Text Captcha'},\n",
       " {'id': 24, 'name': 'Toggle Button'},\n",
       " {'id': 25, 'name': 'Update Button'},\n",
       " {'id': 26, 'name': 'Video'},\n",
       " {'id': 27, 'name': 'Random'}]"
      ]
     },
     "execution_count": 5,
     "metadata": {},
     "output_type": "execute_result"
    }
   ],
   "source": [
    "cat_list"
   ]
  },
  {
   "cell_type": "code",
   "execution_count": 6,
   "metadata": {},
   "outputs": [],
   "source": [
    "cat_map = []\n",
    "for cat in cat_list:\n",
    "    cat_map.append(cat[\"name\"])\n",
    "# cat_map = sorted(cat_map)"
   ]
  },
  {
   "cell_type": "code",
   "execution_count": 7,
   "metadata": {},
   "outputs": [
    {
     "data": {
      "text/plain": [
       "['Accept Button',\n",
       " 'Address Input Box',\n",
       " 'Advertisement',\n",
       " 'Alert Notification',\n",
       " 'Allow Button',\n",
       " 'Checkbox',\n",
       " 'Click Captcha',\n",
       " 'Close Button',\n",
       " 'Download Button',\n",
       " 'Email Input Box',\n",
       " 'General Button',\n",
       " 'General Input Box',\n",
       " 'Image Captcha',\n",
       " 'Login Button',\n",
       " 'Logo',\n",
       " 'Name Input Box',\n",
       " 'Password Input Box',\n",
       " 'Phone Input Box',\n",
       " 'Play Button',\n",
       " 'Popup',\n",
       " 'Search Button',\n",
       " 'Search Input Box',\n",
       " 'Submit Button',\n",
       " 'Text Captcha',\n",
       " 'Toggle Button',\n",
       " 'Update Button',\n",
       " 'Video',\n",
       " 'Random']"
      ]
     },
     "execution_count": 7,
     "metadata": {},
     "output_type": "execute_result"
    }
   ],
   "source": [
    "cat_map"
   ]
  },
  {
   "cell_type": "markdown",
   "metadata": {},
   "source": [
    "## Functions"
   ]
  },
  {
   "cell_type": "code",
   "execution_count": 8,
   "metadata": {},
   "outputs": [],
   "source": [
    "def crop_image(file_path, bounding_box, padding):\n",
    "    \n",
    "    with Image.open(file_path) as img:\n",
    "        \n",
    "        x_min, y_min, width, height = bounding_box\n",
    "\n",
    "        # Calculate padding in pixels\n",
    "        pad_width = int(width * padding)\n",
    "        pad_height = int(height * padding)\n",
    "\n",
    "        # Adjust the bounding box with padding\n",
    "        x_min = max(x_min - pad_width, 0)\n",
    "        y_min = max(y_min - pad_height, 0)\n",
    "        x1 = min(x_min + width + 2 * pad_width, img.width)\n",
    "        y1 = min(y_min + height + 2 * pad_height, img.height)\n",
    "        \n",
    "        cropped_img = img.crop((x_min, y_min, x1, y1))\n",
    "        \n",
    "        return cropped_img"
   ]
  },
  {
   "cell_type": "code",
   "execution_count": 9,
   "metadata": {},
   "outputs": [],
   "source": [
    "def paste_to_bg(image, background_color, bg_width, bg_height):\n",
    "    \n",
    "    # Create a new image with the specified background color and dimensions\n",
    "    background = Image.new('RGB', (bg_width, bg_height), background_color)\n",
    "\n",
    "    # Calculate the position to paste the image so it's centered\n",
    "    x = (bg_width - image.width) // 2\n",
    "    y = (bg_height - image.height) // 2\n",
    "\n",
    "    # Paste the image onto the background\n",
    "    background.paste(image, (x, y), image if image.mode == 'RGBA' else None)\n",
    "\n",
    "    return background"
   ]
  },
  {
   "cell_type": "code",
   "execution_count": 10,
   "metadata": {},
   "outputs": [],
   "source": [
    "def resize_ar_lock(img, target_size):\n",
    "\n",
    "    original_width, original_height = img.size\n",
    "    target_width, target_height = target_size\n",
    "\n",
    "    # Calculate scaling factor\n",
    "    scaling_factor = min(target_width / original_width, target_height / original_height)\n",
    "\n",
    "    # Calculate new dimensions\n",
    "    new_width = max(int(original_width * scaling_factor), 1)\n",
    "    new_height = max(int(original_height * scaling_factor), 1)\n",
    "\n",
    "    # Resize the image\n",
    "    resized_img = img.resize((new_width, new_height))\n",
    "\n",
    "    return resized_img\n"
   ]
  },
  {
   "cell_type": "code",
   "execution_count": 11,
   "metadata": {},
   "outputs": [],
   "source": [
    "def gen_rand_str(length):\n",
    "    characters = string.ascii_letters + string.digits\n",
    "    random_string = ''.join(random.choice(characters) for i in range(length))\n",
    "    return random_string"
   ]
  },
  {
   "cell_type": "code",
   "execution_count": 12,
   "metadata": {},
   "outputs": [],
   "source": [
    "if not os.path.exists(out_dir):\n",
    "        os.makedirs(out_dir)\n",
    "for cat in cat_list:\n",
    "    os.makedirs(os.path.join(out_dir, cat[\"name\"]), exist_ok=True)"
   ]
  },
  {
   "cell_type": "markdown",
   "metadata": {},
   "source": [
    "## Main"
   ]
  },
  {
   "cell_type": "code",
   "execution_count": 13,
   "metadata": {},
   "outputs": [],
   "source": [
    "def process_image(img, ann_list, in_dir, out_dir, cat_map, padding, bg_color, border):\n",
    "    img_bn = os.path.basename(img[\"file_name\"])[0:-4]\n",
    "    img_fp = os.path.join(in_dir, \"images\", os.path.basename(img[\"file_name\"]))\n",
    "    img_id = img[\"id\"]\n",
    "\n",
    "    for j, ann in enumerate(ann_list):\n",
    "        ann_img_id = ann[\"image_id\"]\n",
    "        cat_id = ann[\"category_id\"]\n",
    "\n",
    "        # if cat_id == 1:\n",
    "        #     cat_id = 0\n",
    "\n",
    "        if img_id == ann_img_id:\n",
    "            try:\n",
    "                elem_img = crop_image(img_fp, ann[\"bbox\"], padding)\n",
    "                e_w = elem_img.size[0]\n",
    "                e_h = elem_img.size[1]\n",
    "\n",
    "                if e_w < e_h:\n",
    "                    elem_img = paste_to_bg(elem_img, bg_color, e_h + border, e_h + border)\n",
    "                elif e_w > e_h:\n",
    "                    elem_img = paste_to_bg(elem_img, bg_color, e_w + border, e_w + border)\n",
    "\n",
    "                elem_img.save(os.path.join(out_dir, cat_map[cat_id], img_bn + \"-\" + str(j)) + \".png\", \"PNG\")\n",
    "\n",
    "            except Exception as e:\n",
    "                print(img_fp)\n",
    "                print(e)\n",
    "            "
   ]
  },
  {
   "cell_type": "code",
   "execution_count": 14,
   "metadata": {},
   "outputs": [
    {
     "name": "stderr",
     "output_type": "stream",
     "text": [
      "  7%|▋         | 723/10643 [04:56<43:39,  3.79it/s]  "
     ]
    },
    {
     "name": "stdout",
     "output_type": "stream",
     "text": [
      "/mnt/nis_lab_research/data/coco_files/neg/far_shah_b1-b5_b8_train_neg/images/lwCSe6xAAuerGXwZ-microsoft_ss.png\n",
      "tile cannot extend outside image\n"
     ]
    },
    {
     "name": "stderr",
     "output_type": "stream",
     "text": [
      "100%|██████████| 10643/10643 [59:19<00:00,  2.99it/s] \n"
     ]
    }
   ],
   "source": [
    "with tqdm(total=len(img_list)) as pbar:\n",
    "    Parallel(n_jobs=num_units, backend=backend)(\n",
    "        delayed(lambda x: (process_image(x, ann_list, in_dir, out_dir, cat_map, padding, bg_color, border), pbar.update(1)))(img) for img in img_list\n",
    "    )"
   ]
  }
 ],
 "metadata": {
  "kernelspec": {
   "display_name": "pyt_venv",
   "language": "python",
   "name": "python3"
  },
  "language_info": {
   "codemirror_mode": {
    "name": "ipython",
    "version": 3
   },
   "file_extension": ".py",
   "mimetype": "text/x-python",
   "name": "python",
   "nbconvert_exporter": "python",
   "pygments_lexer": "ipython3",
   "version": "3.11.5"
  }
 },
 "nbformat": 4,
 "nbformat_minor": 2
}
