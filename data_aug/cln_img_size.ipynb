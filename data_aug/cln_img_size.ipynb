{
 "cells": [
  {
   "cell_type": "code",
   "execution_count": 10,
   "metadata": {},
   "outputs": [],
   "source": [
    "import json\n",
    "import os\n",
    "import shutil\n",
    "from PIL import Image"
   ]
  },
  {
   "cell_type": "code",
   "execution_count": 11,
   "metadata": {},
   "outputs": [],
   "source": [
    "def filter_coco_dataset(input_coco_dir, output_coco_dir, target_resolution):\n",
    "    \"\"\"\n",
    "    Filters a COCO dataset, keeping only images that match the target resolution and saves to a new directory.\n",
    "\n",
    "    :param input_coco_dir: Path to the input COCO dataset JSON file.\n",
    "    :param output_coco_dir: Directory where the new COCO file will be saved.\n",
    "    :param target_resolution: The desired resolution (width, height).\n",
    "    \"\"\"\n",
    "\n",
    "    # Create the output directory if it doesn't exist\n",
    "    if not os.path.exists(output_coco_dir):\n",
    "        os.makedirs(output_coco_dir)\n",
    "        \n",
    "    # Copy the source directory and its contents to the destination\n",
    "    shutil.copytree(os.path.join(input_coco_dir, \"images\"), os.path.join(output_coco_dir, \"images\"))\n",
    "\n",
    "    # Load the COCO dataset\n",
    "    with open(os.path.join(input_coco_dir, \"result.json\"), \"r\") as file:\n",
    "        coco_data = json.load(file)\n",
    "\n",
    "    # Filter out images that don't match the target resolution\n",
    "    filtered_images = [img for img in coco_data['images'] if (img['width'], img['height']) == target_resolution]\n",
    "    \n",
    "    # Deleting images that are not the correct resolution\n",
    "    del_images = [item for item in coco_data['images'] if item not in filtered_images]\n",
    "    for each in del_images:\n",
    "        os.remove(os.path.join(output_coco_dir, \"images\", each[\"file_name\"][2:]))\n",
    "\n",
    "    # Collect the IDs of the images that will be kept\n",
    "    kept_image_ids = set([img['id'] for img in filtered_images])\n",
    "\n",
    "    # Filter annotations to keep only those related to the images being kept\n",
    "    filtered_annotations = [anno for anno in coco_data['annotations'] if anno['image_id'] in kept_image_ids]\n",
    "\n",
    "    # Update the COCO data\n",
    "    coco_data['images'] = filtered_images\n",
    "    coco_data['annotations'] = filtered_annotations\n",
    "    \n",
    "    output_file_path = os.path.join(output_coco_dir, \"result.json\")\n",
    "\n",
    "    # Write the updated data to the new file in the output directory\n",
    "    with open(output_file_path, 'w') as file:\n",
    "        json.dump(coco_data, file, indent=4)"
   ]
  },
  {
   "cell_type": "code",
   "execution_count": 12,
   "metadata": {},
   "outputs": [],
   "source": [
    "# Example usage\n",
    "in_dir = '/mnt/nis_lab_research/data/coco_files/raw/shah_b2_704_22-24'  # Replace with your input COCO JSON file path\n",
    "out_dir = '/mnt/nis_lab_research/data/coco_files/raw/shah_b2_704_22-24_cln'     # Replace with your desired output directory path\n",
    "target_resolution = (1920, 1080)"
   ]
  },
  {
   "cell_type": "code",
   "execution_count": 13,
   "metadata": {},
   "outputs": [],
   "source": [
    "# Run the filter function\n",
    "filter_coco_dataset(in_dir, out_dir, target_resolution)"
   ]
  }
 ],
 "metadata": {
  "kernelspec": {
   "display_name": "base",
   "language": "python",
   "name": "python3"
  },
  "language_info": {
   "codemirror_mode": {
    "name": "ipython",
    "version": 3
   },
   "file_extension": ".py",
   "mimetype": "text/x-python",
   "name": "python",
   "nbconvert_exporter": "python",
   "pygments_lexer": "ipython3",
   "version": "3.11.7"
  }
 },
 "nbformat": 4,
 "nbformat_minor": 2
}
