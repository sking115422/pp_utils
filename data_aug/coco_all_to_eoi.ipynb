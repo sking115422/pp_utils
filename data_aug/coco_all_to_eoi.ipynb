{
 "cells": [
  {
   "cell_type": "code",
   "execution_count": null,
   "metadata": {},
   "outputs": [],
   "source": [
    "import os\n",
    "import shutil\n",
    "import json"
   ]
  },
  {
   "cell_type": "code",
   "execution_count": null,
   "metadata": {},
   "outputs": [],
   "source": [
    "in_dir = \"/mnt/lts/nis_lab_research/data/coco_files/merged/far_shah_b1-b3\"\n",
    "out_dir = \"/mnt/lts/nis_lab_research/data/coco_files/eoi/far_shah_b1-b3_EOI\""
   ]
  },
  {
   "cell_type": "code",
   "execution_count": null,
   "metadata": {},
   "outputs": [],
   "source": [
    "# Check if the output directory exists\n",
    "if not os.path.exists(out_dir):\n",
    "    try:\n",
    "        # If it does not exist, copy the contents of the input directory to the output directory\n",
    "        shutil.copytree(in_dir, out_dir)\n",
    "        print(\"The contents of the input directory have been successfully copied to the output directory.\")\n",
    "    except Exception as e:\n",
    "        # If an error occurs during the copy process, print the error message\n",
    "        print(f\"An error occurred: {e}\")\n",
    "else:\n",
    "    print(\"The output directory already exists.\")"
   ]
  },
  {
   "cell_type": "code",
   "execution_count": null,
   "metadata": {},
   "outputs": [],
   "source": [
    "poi = os.path.join(out_dir, \"result.json\")\n",
    "with open(poi, \"r\") as f:\n",
    "    obj = json.load(f)"
   ]
  },
  {
   "cell_type": "code",
   "execution_count": null,
   "metadata": {},
   "outputs": [],
   "source": [
    "obj['categories'] = [{'id': 0, 'name': 'EOI'}]"
   ]
  },
  {
   "cell_type": "code",
   "execution_count": null,
   "metadata": {},
   "outputs": [],
   "source": [
    "for ann in obj[\"annotations\"]:\n",
    "    ann[\"category_id\"] = 0"
   ]
  },
  {
   "cell_type": "code",
   "execution_count": null,
   "metadata": {},
   "outputs": [],
   "source": [
    "type(obj)"
   ]
  },
  {
   "cell_type": "code",
   "execution_count": null,
   "metadata": {},
   "outputs": [],
   "source": [
    "with open(poi, \"w+\") as f:\n",
    "    json.dump(obj, f)"
   ]
  }
 ],
 "metadata": {
  "kernelspec": {
   "display_name": "base",
   "language": "python",
   "name": "python3"
  },
  "language_info": {
   "codemirror_mode": {
    "name": "ipython",
    "version": 3
   },
   "file_extension": ".py",
   "mimetype": "text/x-python",
   "name": "python",
   "nbconvert_exporter": "python",
   "pygments_lexer": "ipython3",
   "version": "3.11.5"
  }
 },
 "nbformat": 4,
 "nbformat_minor": 2
}
