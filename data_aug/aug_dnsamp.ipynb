{
 "cells": [
  {
   "cell_type": "code",
   "execution_count": null,
   "metadata": {},
   "outputs": [],
   "source": [
    "import json\n",
    "import os\n",
    "import shutil\n",
    "import random\n",
    "from pandas.core.common import flatten"
   ]
  },
  {
   "cell_type": "code",
   "execution_count": null,
   "metadata": {},
   "outputs": [],
   "source": [
    "in_dir = \"/mnt/nis_lab_research/data/coco_files/aug/far_shah_1247_v1_all_aug/\""
   ]
  },
  {
   "cell_type": "code",
   "execution_count": null,
   "metadata": {},
   "outputs": [],
   "source": [
    "out_dir = \"/mnt/nis_lab_research/data/coco_files/aug/far_shah_1247_v1_all_aug_att/\""
   ]
  },
  {
   "cell_type": "code",
   "execution_count": null,
   "metadata": {},
   "outputs": [],
   "source": [
    "if os.path.exists(out_dir):\n",
    "    shutil.rmtree(out_dir)\n",
    "\n",
    "shutil.copytree(in_dir, out_dir)"
   ]
  },
  {
   "cell_type": "code",
   "execution_count": null,
   "metadata": {},
   "outputs": [],
   "source": [
    "with open(out_dir + \"result.json\") as f:\n",
    "    coco_obj = json.load(f)"
   ]
  },
  {
   "cell_type": "code",
   "execution_count": null,
   "metadata": {},
   "outputs": [],
   "source": [
    "with open(\"./dnsamp_conf.json\") as f:\n",
    "    bal_dict = json.load(f)"
   ]
  },
  {
   "cell_type": "code",
   "execution_count": null,
   "metadata": {},
   "outputs": [],
   "source": [
    "ann_list = coco_obj[\"annotations\"]\n",
    "cat_list = coco_obj[\"categories\"] "
   ]
  },
  {
   "cell_type": "code",
   "execution_count": null,
   "metadata": {},
   "outputs": [],
   "source": [
    "random.seed(1)\n",
    "ann_list_ind = []\n",
    "ann_list_final = []\n",
    "for i, cat in enumerate(cat_list):\n",
    "    ind_list = []\n",
    "    cat_name = cat[\"name\"]\n",
    "    for j, ann in enumerate(ann_list):\n",
    "        if ann[\"category_id\"] == i:\n",
    "            ind_list.append(j)\n",
    "    if bal_dict[cat_name] == \"max\":\n",
    "        ann_list_ind.append(ind_list)\n",
    "    elif len(ind_list) > bal_dict[cat_name]:\n",
    "        ann_list_ind.append(random.sample(ind_list, bal_dict[cat_name]))\n",
    "    else:\n",
    "        ann_list_ind.append(ind_list)\n",
    "        \n",
    "ann_list_ind = list(flatten(ann_list_ind))\n",
    "\n",
    "for ind in ann_list_ind:\n",
    "    ann_list_final.append(ann_list[ind])\n",
    "\n",
    "        "
   ]
  },
  {
   "cell_type": "code",
   "execution_count": null,
   "metadata": {},
   "outputs": [],
   "source": [
    "coco_obj[\"annotations\"] = ann_list_final"
   ]
  },
  {
   "cell_type": "code",
   "execution_count": null,
   "metadata": {},
   "outputs": [],
   "source": [
    "with open(out_dir + \"result.json\", \"w\", ) as f:\n",
    "    f.write(json.dumps(coco_obj))"
   ]
  }
 ],
 "metadata": {
  "kernelspec": {
   "display_name": "base",
   "language": "python",
   "name": "python3"
  },
  "language_info": {
   "codemirror_mode": {
    "name": "ipython",
    "version": 3
   },
   "file_extension": ".py",
   "mimetype": "text/x-python",
   "name": "python",
   "nbconvert_exporter": "python",
   "pygments_lexer": "ipython3",
   "version": "3.11.5"
  },
  "orig_nbformat": 4
 },
 "nbformat": 4,
 "nbformat_minor": 2
}
