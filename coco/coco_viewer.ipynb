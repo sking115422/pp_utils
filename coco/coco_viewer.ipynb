{
 "cells": [
  {
   "cell_type": "code",
   "execution_count": 35,
   "metadata": {},
   "outputs": [],
   "source": [
    "import json\n",
    "import os\n",
    "import cv2\n",
    "import numpy as np"
   ]
  },
  {
   "cell_type": "code",
   "execution_count": 36,
   "metadata": {},
   "outputs": [],
   "source": [
    "in_dir = \"/mnt/nis_lab_research/data/coco_files/neg/shah_b1_539_21_neg\"\n",
    "out_dir = \"./output\""
   ]
  },
  {
   "cell_type": "code",
   "execution_count": 37,
   "metadata": {},
   "outputs": [],
   "source": [
    "def createDataDict (fn):\n",
    "    \n",
    "    master_list = []\n",
    "\n",
    "    with open(fn, \"r\") as f:\n",
    "        json_obj = json.load(f)\n",
    "        \n",
    "    \n",
    "        \n",
    "    for img in json_obj[\"images\"]:\n",
    "        \n",
    "        fn = os.path.join(in_dir, \"images\", img[\"file_name\"][2:])\n",
    "        h = img[\"height\"]\n",
    "        w = img[\"width\"]\n",
    "        ann_list = []\n",
    "        \n",
    "        for ann in json_obj[\"annotations\"]:\n",
    "            if ann[\"image_id\"] == img[\"id\"]:\n",
    "                ann_list.append(ann)\n",
    "    \n",
    "        data_dict = {\n",
    "            \"file_name\": fn,\n",
    "            \"height\": h,\n",
    "            \"width\": w, \n",
    "            \"annotations\": ann_list\n",
    "        }\n",
    " \n",
    "        master_list.append(data_dict)\n",
    "        \n",
    "    return master_list"
   ]
  },
  {
   "cell_type": "code",
   "execution_count": 38,
   "metadata": {},
   "outputs": [],
   "source": [
    "data_dict_list = createDataDict(os.path.join(in_dir, \"result.json\"))"
   ]
  },
  {
   "cell_type": "code",
   "execution_count": 39,
   "metadata": {},
   "outputs": [],
   "source": [
    "# Create a dictionary to map category_ids to unique colors\n",
    "category_colors = {}\n",
    "\n",
    "# Get unique category_ids\n",
    "unique_category_ids = set()\n",
    "for data_dict in data_dict_list:\n",
    "    for annotation in data_dict['annotations']:\n",
    "        unique_category_ids.add(annotation['category_id'])\n",
    "\n",
    "# Generate unique colors for each category\n",
    "for category_id in unique_category_ids:\n",
    "    color = tuple(np.random.randint(0, 256, 3).tolist())  # Generate a random color for each category\n",
    "    category_colors[category_id] = color"
   ]
  },
  {
   "cell_type": "code",
   "execution_count": 40,
   "metadata": {},
   "outputs": [],
   "source": [
    "# Define a dictionary to map category_ids to labels (customize as needed)\n",
    "\n",
    "# # Option 1\n",
    "# category_labels = {\n",
    "#     0: 'Accept Button',\n",
    "#     1: 'Address Input Box',\n",
    "#     2: 'Advertisement',\n",
    "#     3: 'Alert Notification',\n",
    "#     4: 'Allow Button',\n",
    "#     5: 'Checkbox',\n",
    "#     6: 'Click Captcha',\n",
    "#     7: 'Close Button',\n",
    "#     8: 'Download Button',\n",
    "#     9: 'Email Input Box',\n",
    "#     10: 'General Button',\n",
    "#     11: 'General Input Box',\n",
    "#     12: 'Image Captcha',\n",
    "#     13: 'Login Button',\n",
    "#     14: 'Logo',\n",
    "#     15: 'Name Input Box',\n",
    "#     16: 'Password Input Box',\n",
    "#     17: 'Phone Input Box',\n",
    "#     18: 'Play Button',\n",
    "#     19: 'Popup',\n",
    "#     20: 'Search Button',\n",
    "#     21: 'Search Input Box',\n",
    "#     22: 'Submit Button',\n",
    "#     23: 'Text Captcha',\n",
    "#     24: 'Toggle Button',\n",
    "#     25: 'Update Button',\n",
    "#     26: 'Video'\n",
    "# }\n",
    "\n",
    "# Option 2\n",
    "category_labels = {\n",
    "    0: '0',\n",
    "    1: '1',\n",
    "    2: '2',\n",
    "    3: '3',\n",
    "    4: '4',\n",
    "    5: '5',\n",
    "    6: '6',\n",
    "    7: '7',\n",
    "    8: '8',\n",
    "    9: '9',\n",
    "    10: '10',\n",
    "    11: '11',\n",
    "    12: '12',\n",
    "    13: '13',\n",
    "    14: '14',\n",
    "    15: '15',\n",
    "    16: '16',\n",
    "    17: '17',\n",
    "    18: '18',\n",
    "    19: '19',\n",
    "    20: '20',\n",
    "    21: '21',\n",
    "    22: '22',\n",
    "    23: '23',\n",
    "    24: '24',\n",
    "    25: '25',\n",
    "    26: '26',\n",
    "    27: '27'\n",
    "}"
   ]
  },
  {
   "cell_type": "code",
   "execution_count": 41,
   "metadata": {},
   "outputs": [],
   "source": [
    "# Create the output directory if it doesn't exist\n",
    "if not os.path.exists(out_dir):\n",
    "    os.makedirs(out_dir)"
   ]
  },
  {
   "cell_type": "code",
   "execution_count": 42,
   "metadata": {},
   "outputs": [],
   "source": [
    "# Loop through data_dict_list and draw bounding boxes with category labels\n",
    "for data_dict in data_dict_list:\n",
    "    image_path = data_dict['file_name']\n",
    "    image = cv2.imread(image_path)\n",
    "\n",
    "    for annotation in data_dict['annotations']:\n",
    "        bbox = annotation['bbox']\n",
    "        x, y, w, h = bbox\n",
    "        x, y, w, h = int(x), int(y), int(w), int(h)\n",
    "\n",
    "        category_id = annotation['category_id']\n",
    "        category_label = category_labels.get(category_id, 'Unknown')\n",
    "        category_color = category_colors.get(category_id, (0, 0, 255))  # Default to blue if not in mapping\n",
    "\n",
    "        cv2.rectangle(image, (x, y), (x + w, y + h), category_color, 2)  # Draw the bounding box\n",
    "        cv2.putText(image, category_label, (x, y - 10), cv2.FONT_HERSHEY_SIMPLEX, 0.5, category_color, 2)\n",
    "\n",
    "    # Save the image with bounding boxes and labels to the output directory\n",
    "    output_path = os.path.join(out_dir, os.path.basename(image_path))\n",
    "    cv2.imwrite(output_path, image)"
   ]
  }
 ],
 "metadata": {
  "kernelspec": {
   "display_name": "base",
   "language": "python",
   "name": "python3"
  },
  "language_info": {
   "codemirror_mode": {
    "name": "ipython",
    "version": 3
   },
   "file_extension": ".py",
   "mimetype": "text/x-python",
   "name": "python",
   "nbconvert_exporter": "python",
   "pygments_lexer": "ipython3",
   "version": "3.11.5"
  }
 },
 "nbformat": 4,
 "nbformat_minor": 2
}
