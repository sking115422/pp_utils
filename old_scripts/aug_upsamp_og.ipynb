{
 "cells": [
  {
   "cell_type": "markdown",
   "metadata": {},
   "source": [
    "### Imports"
   ]
  },
  {
   "cell_type": "code",
   "execution_count": null,
   "metadata": {},
   "outputs": [],
   "source": [
    "import json\n",
    "import os\n",
    "import shutil\n",
    "import random\n",
    "import copy\n",
    "from pandas.core.common import flatten\n",
    "import numpy as np\n",
    "import pandas as pd\n",
    "from PIL import Image, ImageEnhance\n",
    "import cv2\n",
    "import albumentations as A\n",
    "from collections import Counter\n",
    "import time\n"
   ]
  },
  {
   "cell_type": "markdown",
   "metadata": {},
   "source": [
    "### Image Augmentation Functions"
   ]
  },
  {
   "cell_type": "code",
   "execution_count": null,
   "metadata": {},
   "outputs": [],
   "source": [
    "def getRandTup(low_low, low_high, high_low, high_high):\n",
    "\n",
    "    rand_low = random.uniform(low_low,low_high)\n",
    "    rand_high = random.uniform(high_low, high_high)\n",
    "    rand_pick = random.uniform(0,1)\n",
    "    \n",
    "    rand_use = 0\n",
    "    \n",
    "    if rand_pick < .5:\n",
    "        rand_use = rand_low\n",
    "    else:\n",
    "        rand_use = rand_high\n",
    "        \n",
    "    rand_tup = (rand_use, rand_use)\n",
    "    \n",
    "    return rand_tup\n",
    "\n"
   ]
  },
  {
   "cell_type": "code",
   "execution_count": null,
   "metadata": {},
   "outputs": [],
   "source": [
    "def aug_brightness(og_img):\n",
    "        \n",
    "    rand_tup = getRandTup(.3, .8, 2, 3.5)\n",
    "        \n",
    "    aug = A.ColorJitter(brightness=rand_tup,contrast=0,saturation=0,hue=0, always_apply=True, p=1)\n",
    "    aug_img =  aug(image=og_img)['image']\n",
    "    return aug_img\n",
    "\n"
   ]
  },
  {
   "cell_type": "code",
   "execution_count": null,
   "metadata": {},
   "outputs": [],
   "source": [
    "def aug_contrast(og_img):\n",
    "    \n",
    "    rand_tup = getRandTup(.3, .8, 2, 3.5)\n",
    "        \n",
    "    aug = A.ColorJitter(brightness=0,contrast=rand_tup,saturation=0,hue=0, always_apply=True, p=1)\n",
    "    aug_img =  aug(image=og_img)['image']\n",
    "    return aug_img"
   ]
  },
  {
   "cell_type": "code",
   "execution_count": null,
   "metadata": {},
   "outputs": [],
   "source": [
    "def aug_saturation(og_img):\n",
    "    \n",
    "    rand_tup = getRandTup(.3, .8, 2, 3.5)\n",
    "        \n",
    "    aug = A.ColorJitter(brightness=0,contrast=0,saturation=rand_tup,hue=0, always_apply=True, p=1)\n",
    "    aug_img =  aug(image=og_img)['image']\n",
    "    return aug_img"
   ]
  },
  {
   "cell_type": "code",
   "execution_count": null,
   "metadata": {},
   "outputs": [],
   "source": [
    "def aug_hue(og_img):\n",
    "    \n",
    "    rand_tup = getRandTup(-.5, -.075, .075, .5)\n",
    "        \n",
    "    aug = A.ColorJitter(brightness=0,contrast=0,saturation=0,hue=rand_tup, always_apply=True, p=1)\n",
    "    aug_img =  aug(image=og_img)['image']\n",
    "    return aug_img"
   ]
  },
  {
   "cell_type": "code",
   "execution_count": null,
   "metadata": {},
   "outputs": [],
   "source": [
    "def aug_color_jitter(og_img):\n",
    "        \n",
    "    aug = A.ColorJitter(brightness=getRandTup(.3, .8, 1.5, 2.25),\n",
    "                        contrast=getRandTup(.3, .8, 1.5, 2.25),\n",
    "                        saturation=getRandTup(.3, .8, 1.5, 2.25),\n",
    "                        hue=getRandTup(-.5, -.075, .075, .5), \n",
    "                        always_apply=True, p=1)\n",
    "    \n",
    "    aug_img =  aug(image=og_img)['image']\n",
    "    return aug_img"
   ]
  },
  {
   "cell_type": "code",
   "execution_count": null,
   "metadata": {},
   "outputs": [],
   "source": [
    "def aug_posterize(og_img):\n",
    "    \n",
    "    aug = A.Posterize(num_bits=(1,2), always_apply=True, p=1)\n",
    "    \n",
    "    aug_img =  aug(image=og_img)['image']\n",
    "    return aug_img"
   ]
  },
  {
   "cell_type": "code",
   "execution_count": null,
   "metadata": {},
   "outputs": [],
   "source": [
    "def aug_blur(og_img):\n",
    "    \n",
    "    aug = A.Blur(blur_limit=(5, 9), always_apply=True, p=1)\n",
    "    \n",
    "    aug_img =  aug(image=og_img)['image']\n",
    "    return aug_img"
   ]
  },
  {
   "cell_type": "code",
   "execution_count": null,
   "metadata": {},
   "outputs": [],
   "source": [
    "def createImgJson (img_id, fn):\n",
    "    \n",
    "    json_obj = {\n",
    "        'width': 1920,\n",
    "        'height': 1080,\n",
    "        'id': img_id,\n",
    "        'file_name': fn\n",
    "    }\n",
    "    \n",
    "    return json_obj"
   ]
  },
  {
   "cell_type": "code",
   "execution_count": null,
   "metadata": {},
   "outputs": [],
   "source": [
    "def createAnnJson (ann_id, img_id, cat_id, seg, bbox, ignore, iscrowd, area):\n",
    "    \n",
    "    json_obj = {\n",
    "        'id': ann_id,\n",
    "        'image_id': img_id,\n",
    "        'category_id': cat_id,\n",
    "        'segmentation': seg,\n",
    "        'bbox': bbox,\n",
    "        'ignore': ignore,\n",
    "        'iscrowd': iscrowd,\n",
    "        'area': area\n",
    "    }\n",
    "    \n",
    "    return json_obj"
   ]
  },
  {
   "cell_type": "markdown",
   "metadata": {},
   "source": [
    "### Annotation Stats Calculation Functions"
   ]
  },
  {
   "cell_type": "code",
   "execution_count": null,
   "metadata": {},
   "outputs": [],
   "source": [
    "def createCatMap (cat_list):\n",
    "    cat_dict = {}\n",
    "    for cat in cat_list:\n",
    "        cat_dict.update({cat[\"id\"]: cat[\"name\"] })\n",
    "    return cat_dict"
   ]
  },
  {
   "cell_type": "code",
   "execution_count": null,
   "metadata": {},
   "outputs": [],
   "source": [
    "def createImgAnnMap (img_list, ann_list):\n",
    "    \n",
    "    img_ann_dict = {}\n",
    "    \n",
    "    for img in img_list:\n",
    "        tmp_ann_list = []\n",
    "        for ann in ann_list:\n",
    "            if ann[\"image_id\"] == img[\"id\"]:\n",
    "                tmp_ann_list.append(ann)\n",
    "        img_ann_dict.update({img[\"id\"]: tmp_ann_list})\n",
    "        \n",
    "    return img_ann_dict\n"
   ]
  },
  {
   "cell_type": "code",
   "execution_count": null,
   "metadata": {},
   "outputs": [],
   "source": [
    "def calcImgStats (ann_list):\n",
    "    \n",
    "    tmp_cat_list = []\n",
    "    for ann in ann_list:\n",
    "        tmp_cat_list.append(ann[\"category_id\"])\n",
    "        \n",
    "    return dict(Counter(tmp_cat_list))"
   ]
  },
  {
   "cell_type": "code",
   "execution_count": null,
   "metadata": {},
   "outputs": [],
   "source": [
    "def calcImgStatsAll (img_ann_map):\n",
    "    \n",
    "    img_stats_map = {}\n",
    "    for i in range(0, len(img_ann_map)):\n",
    "        ann_list = img_ann_map[i]\n",
    "        img_stats_map.update({i: calcImgStats(ann_list)})\n",
    "    \n",
    "    return img_stats_map"
   ]
  },
  {
   "cell_type": "code",
   "execution_count": null,
   "metadata": {},
   "outputs": [],
   "source": [
    "def calcGlobStats (img_stats, cat_map):\n",
    "    \n",
    "    glob_stats = {}\n",
    "        \n",
    "    for key1 in range(0, len(cat_map)):\n",
    "        total = 0\n",
    "        for key2 in img_stats.keys():\n",
    "            stats = img_stats[key2]\n",
    "            try:\n",
    "                total += stats[key1]\n",
    "            except:\n",
    "                pass\n",
    "        glob_stats.update({key1: total})\n",
    "        \n",
    "    return glob_stats"
   ]
  },
  {
   "cell_type": "markdown",
   "metadata": {},
   "source": [
    "### Create Images Function"
   ]
  },
  {
   "cell_type": "code",
   "execution_count": null,
   "metadata": {},
   "outputs": [],
   "source": [
    "\n",
    "def createNewImgs(img_list, img_list_og, ann_list_og, cat_list_og):\n",
    "\n",
    "    img_list_master = img_list_og\n",
    "    ann_list_master = ann_list_og\n",
    "\n",
    "    img_id_new = img_list_og[-1][\"id\"] + 1\n",
    "    ann_id_new = ann_list_og[-1][\"id\"] + 1\n",
    "\n",
    "    for i, img in enumerate(img_list):\n",
    "        \n",
    "        fn_rel = img[\"file_name\"]\n",
    "        fn = fn_rel[2:-4]\n",
    "        fn_full = os.path.join(in_dir, \"images\", fn_rel[2:])\n",
    "        img_id_og = img[\"id\"]\n",
    "        \n",
    "        print (str(i) + \")\", fn_full)\n",
    "        \n",
    "        # Creating directory for images inside of coco output file\n",
    "        img_out_dir = os.path.join(out_dir, \"images\")\n",
    "        os.makedirs(img_out_dir, exist_ok=True)\n",
    "        \n",
    "        # Collecting og annotations json\n",
    "        ann_og = []\n",
    "        for ann in ann_list_og:\n",
    "            if img_id_og == ann[\"image_id\"]:\n",
    "                ann_og.append(ann)  \n",
    "        \n",
    "        ### FIX ###\n",
    "        \n",
    "        # Handling og images \n",
    "        og_img_path = os.path.join(img_out_dir, fn_rel)\n",
    "        og_img = cv2.imread(fn_full)\n",
    "        \n",
    "        ann_new = []\n",
    "        \n",
    "        if adj_brightness > 0:\n",
    "            for j in range(0, adj_brightness):\n",
    "                fn_new = fn + \"-bright-\" + str(img_id_new) + \".png\"\n",
    "                bright_img_path = os.path.join(img_out_dir, fn_new)\n",
    "                bright_img = aug_brightness(og_img)\n",
    "                cv2.imwrite(bright_img_path, bright_img)\n",
    "                \n",
    "                img_list_master.append(createImgJson(img_id_new, \"./\" + fn_new))\n",
    "                \n",
    "                for ann in ann_og:\n",
    "                    ann_new = createAnnJson(ann_id_new, img_id_new, ann[\"category_id\"], ann[\"segmentation\"], ann[\"bbox\"], ann[\"ignore\"], ann[\"iscrowd\"], ann[\"area\"])\n",
    "                    ann_list_master.append(ann_new)\n",
    "                    ann_id_new += 1\n",
    "                \n",
    "                img_id_new += 1\n",
    "                \n",
    "        if adj_contrast > 0:\n",
    "            for j in range(0, adj_contrast):\n",
    "                fn_new = fn + \"-contrast-\" + str(img_id_new) + \".png\"\n",
    "                contrast_img_path = os.path.join(img_out_dir, fn_new)\n",
    "                contrast_img = aug_contrast(og_img)\n",
    "                cv2.imwrite(contrast_img_path, contrast_img)\n",
    "                \n",
    "                img_list_master.append(createImgJson(img_id_new, \"./\" + fn_new))\n",
    "                \n",
    "                for ann in ann_og:\n",
    "                    ann_new = createAnnJson(ann_id_new, img_id_new, ann[\"category_id\"], ann[\"segmentation\"], ann[\"bbox\"], ann[\"ignore\"], ann[\"iscrowd\"], ann[\"area\"])\n",
    "                    ann_list_master.append(ann_new)\n",
    "                    ann_id_new += 1\n",
    "                \n",
    "                img_id_new += 1\n",
    "        \n",
    "        if adj_saturation > 0:\n",
    "            for j in range(0, adj_saturation):\n",
    "                fn_new = fn + \"-saturate-\" + str(img_id_new) + \".png\"\n",
    "                saturate_img_path = os.path.join(img_out_dir, fn_new)\n",
    "                saturate_img = aug_saturation(og_img)\n",
    "                cv2.imwrite(saturate_img_path, saturate_img)\n",
    "                \n",
    "                img_list_master.append(createImgJson(img_id_new, \"./\" + fn_new))\n",
    "                \n",
    "                for ann in ann_og:\n",
    "                    ann_new = createAnnJson(ann_id_new, img_id_new, ann[\"category_id\"], ann[\"segmentation\"], ann[\"bbox\"], ann[\"ignore\"], ann[\"iscrowd\"], ann[\"area\"])\n",
    "                    ann_list_master.append(ann_new)\n",
    "                    ann_id_new += 1\n",
    "                \n",
    "                img_id_new += 1\n",
    "\n",
    "        if adj_hue > 0:\n",
    "            for j in range(0, adj_hue):\n",
    "                fn_new = fn + \"-hue-\" + str(img_id_new) + \".png\"\n",
    "                hue_img_path = os.path.join(img_out_dir, fn_new)\n",
    "                hue_img = aug_hue(og_img)\n",
    "                cv2.imwrite(hue_img_path, hue_img)\n",
    "                \n",
    "                img_list_master.append(createImgJson(img_id_new, \"./\" + fn_new))\n",
    "                \n",
    "                for ann in ann_og:\n",
    "                    ann_new = createAnnJson(ann_id_new, img_id_new, ann[\"category_id\"], ann[\"segmentation\"], ann[\"bbox\"], ann[\"ignore\"], ann[\"iscrowd\"], ann[\"area\"])\n",
    "                    ann_list_master.append(ann_new)\n",
    "                    ann_id_new += 1\n",
    "                \n",
    "                img_id_new += 1\n",
    "\n",
    "        if adj_color_jitter > 0:\n",
    "            for j in range(0, adj_color_jitter):\n",
    "                fn_new = fn + \"-color_jitter-\" + str(img_id_new) + \".png\"\n",
    "                color_jitter_img_path = os.path.join(img_out_dir, fn_new)\n",
    "                color_jitter_img = aug_color_jitter(og_img)\n",
    "                cv2.imwrite(color_jitter_img_path, color_jitter_img)\n",
    "                \n",
    "                img_list_master.append(createImgJson(img_id_new, \"./\" + fn_new))\n",
    "                \n",
    "                for ann in ann_og:\n",
    "                    ann_new = createAnnJson(ann_id_new, img_id_new, ann[\"category_id\"], ann[\"segmentation\"], ann[\"bbox\"], ann[\"ignore\"], ann[\"iscrowd\"], ann[\"area\"])\n",
    "                    ann_list_master.append(ann_new)\n",
    "                    ann_id_new += 1\n",
    "                \n",
    "                img_id_new += 1\n",
    "                \n",
    "        if adj_posterize > 0:\n",
    "            for j in range(0, adj_posterize):\n",
    "                fn_new = fn + \"-posterize-\" + str(img_id_new) + \".png\"\n",
    "                posterize_img_path = os.path.join(img_out_dir, fn_new)\n",
    "                posterize_img = aug_posterize(og_img)\n",
    "                cv2.imwrite(posterize_img_path, posterize_img)\n",
    "                \n",
    "                img_list_master.append(createImgJson(img_id_new, \"./\" + fn_new))\n",
    "                \n",
    "                for ann in ann_og:\n",
    "                    ann_new = createAnnJson(ann_id_new, img_id_new, ann[\"category_id\"], ann[\"segmentation\"], ann[\"bbox\"], ann[\"ignore\"], ann[\"iscrowd\"], ann[\"area\"])\n",
    "                    ann_list_master.append(ann_new)\n",
    "                    ann_id_new += 1\n",
    "                \n",
    "                img_id_new += 1\n",
    "                \n",
    "        if adj_blur > 0:\n",
    "            for j in range(0, adj_blur):\n",
    "                fn_new = fn + \"-blur-\" + str(img_id_new) + \".png\"\n",
    "                blur_img_path = os.path.join(img_out_dir, fn_new)\n",
    "                blur_img = aug_blur(og_img)\n",
    "                cv2.imwrite(blur_img_path, blur_img)\n",
    "                \n",
    "                img_list_master.append(createImgJson(img_id_new, \"./\" + fn_new))\n",
    "                \n",
    "                for ann in ann_og:\n",
    "                    ann_new = createAnnJson(ann_id_new, img_id_new, ann[\"category_id\"], ann[\"segmentation\"], ann[\"bbox\"], ann[\"ignore\"], ann[\"iscrowd\"], ann[\"area\"])\n",
    "                    ann_list_master.append(ann_new)\n",
    "                    ann_id_new += 1\n",
    "                \n",
    "                img_id_new += 1\n",
    "                \n",
    "    json_out_obj = {\n",
    "        \"images\": img_list_master,\n",
    "        \"categories\": cat_list_og,\n",
    "        \"annotations\": ann_list_master\n",
    "    }\n",
    "\n",
    "    # Writing out object\n",
    "    jstr = json.dumps(json_out_obj, indent=4)\n",
    "    with open(os.path.join(out_dir, \"result.json\"), \"w+\") as f:\n",
    "        f.write(jstr)"
   ]
  },
  {
   "cell_type": "markdown",
   "metadata": {},
   "source": [
    "### Utility Functions"
   ]
  },
  {
   "cell_type": "code",
   "execution_count": null,
   "metadata": {},
   "outputs": [],
   "source": [
    "def getXRandValFromList(input_list, x, use_only_og):\n",
    "    if use_only_og:\n",
    "        filtered_list = [item for item in input_list if len(item[\"file_name\"].split(\"-\")) <= 2]\n",
    "    else:\n",
    "        filtered_list = input_list\n",
    "\n",
    "    if x > len(filtered_list):\n",
    "        print(\"Step size too large, defaulting to the smallest category list length.\")\n",
    "        return filtered_list\n",
    "    else:\n",
    "        return random.sample(filtered_list, x)"
   ]
  },
  {
   "cell_type": "markdown",
   "metadata": {},
   "source": [
    "### Global Variables"
   ]
  },
  {
   "cell_type": "code",
   "execution_count": null,
   "metadata": {},
   "outputs": [],
   "source": [
    "in_dir = \"/mnt/nis_lab_research/data/coco_files/merged/far_shah_1247_v1\""
   ]
  },
  {
   "cell_type": "code",
   "execution_count": null,
   "metadata": {},
   "outputs": [],
   "source": [
    "out_dir = \"/mnt/nis_lab_research/data/coco_files/aug/far_shah_1247_v1_aug_us/\""
   ]
  },
  {
   "cell_type": "code",
   "execution_count": null,
   "metadata": {},
   "outputs": [],
   "source": [
    "# Number of images each category must have before program finishes\n",
    "glob_upsamp_thold = 1000\n",
    "\n",
    "# Number of random images chosen from min val list\n",
    "step_size = 20\n",
    "\n",
    "# Setting augmentation types\n",
    "# Value is number of images of each type generated\n",
    "# Augmented images generated per number of images chosen\n",
    "# A value of 0 is off\n",
    "\n",
    "adj_brightness = 1\n",
    "adj_contrast = 1\n",
    "adj_saturation = 1\n",
    "adj_hue = 1\n",
    "adj_color_jitter = 9\n",
    "adj_posterize = 1\n",
    "adj_blur = 1\n",
    "\n",
    "# Flag to specific if only original images can be modified \n",
    "use_only_og = True\n",
    "\n",
    "# Speed reduction threshold\n",
    "# Threshold as which step size and augmentation types above become most conservative\n",
    "speed_red_thold = .9"
   ]
  },
  {
   "cell_type": "markdown",
   "metadata": {},
   "source": [
    "## Main"
   ]
  },
  {
   "cell_type": "code",
   "execution_count": null,
   "metadata": {},
   "outputs": [],
   "source": [
    "if os.path.exists(out_dir):\n",
    "    shutil.rmtree(out_dir)\n",
    "\n",
    "shutil.copytree(in_dir, out_dir)"
   ]
  },
  {
   "cell_type": "code",
   "execution_count": null,
   "metadata": {},
   "outputs": [],
   "source": [
    "\n",
    "min_val = 0\n",
    "\n",
    "while min_val < glob_upsamp_thold: \n",
    "    \n",
    "    if min_val / glob_upsamp_thold > speed_red_thold:\n",
    "        \n",
    "        step_size = 5\n",
    "        adj_brightness = 0\n",
    "        adj_contrast = 0\n",
    "        adj_saturation = 0\n",
    "        adj_hue = 0\n",
    "        adj_color_jitter = 1\n",
    "        adj_posterize = 0\n",
    "        adj_blur = 0\n",
    "\n",
    "    with open(os.path.join(out_dir, \"result.json\")) as f:\n",
    "        og_coco_obj = json.load(f)\n",
    "        \n",
    "    img_list_og = og_coco_obj[\"images\"]\n",
    "    ann_list_og = og_coco_obj[\"annotations\"]\n",
    "    cat_list_og = og_coco_obj[\"categories\"] \n",
    "\n",
    "    cat_map = createCatMap(cat_list_og)\n",
    "    img_ann_map = createImgAnnMap (img_list_og, ann_list_og)\n",
    "    all_img_stats = calcImgStatsAll (img_ann_map)\n",
    "    glob_stats = calcGlobStats (all_img_stats, cat_map)\n",
    "\n",
    "    key_list = []\n",
    "    val_list = []\n",
    "    for key in glob_stats.keys():\n",
    "        key_list.append(key)\n",
    "        val_list.append(glob_stats[key])\n",
    "\n",
    "    # Min none zero value\n",
    "    min_val = min([x for x in val_list if x != 0])     \n",
    "    min_val_key = key_list[val_list.index(min_val)]\n",
    "    print(min_val_key, min_val)\n",
    "\n",
    "    low_rep_img_id_list = []\n",
    "    for ann in ann_list_og:\n",
    "        if min_val_key == ann[\"category_id\"]:\n",
    "            low_rep_img_id_list.append(ann[\"image_id\"])\n",
    "\n",
    "    tmp_img_list = []\n",
    "    for tmp_img_id in low_rep_img_id_list:        \n",
    "        for img in img_list_og:\n",
    "            if tmp_img_id == img[\"id\"]:\n",
    "                tmp_img_list.append(img)\n",
    "                break\n",
    "    \n",
    "    input_imgs = getXRandValFromList (tmp_img_list, 1, use_only_og)\n",
    "    \n",
    "    createNewImgs(input_imgs, img_list_og, ann_list_og, cat_list_og)"
   ]
  },
  {
   "cell_type": "code",
   "execution_count": null,
   "metadata": {},
   "outputs": [],
   "source": []
  }
 ],
 "metadata": {
  "kernelspec": {
   "display_name": "base",
   "language": "python",
   "name": "python3"
  },
  "language_info": {
   "codemirror_mode": {
    "name": "ipython",
    "version": 3
   },
   "file_extension": ".py",
   "mimetype": "text/x-python",
   "name": "python",
   "nbconvert_exporter": "python",
   "pygments_lexer": "ipython3",
   "version": "3.11.5"
  }
 },
 "nbformat": 4,
 "nbformat_minor": 2
}
