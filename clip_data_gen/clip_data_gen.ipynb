{
 "cells": [
  {
   "cell_type": "markdown",
   "metadata": {},
   "source": [
    "# Data Generation Script for Training Clip"
   ]
  },
  {
   "cell_type": "markdown",
   "metadata": {},
   "source": [
    "## Imports"
   ]
  },
  {
   "cell_type": "code",
   "execution_count": 121,
   "metadata": {},
   "outputs": [],
   "source": [
    "import os\n",
    "import json\n",
    "import random\n",
    "import string\n",
    "from PIL import Image\n",
    "import pytesseract\n",
    "import easyocr\n",
    "import numpy as np\n",
    "import torch\n",
    "from multiprocessing import set_start_method\n",
    "from concurrent.futures import ThreadPoolExecutor, ProcessPoolExecutor, as_completed\n",
    "from threading import Lock\n",
    "from functions import *"
   ]
  },
  {
   "cell_type": "markdown",
   "metadata": {},
   "source": [
    "## Global Variables"
   ]
  },
  {
   "cell_type": "code",
   "execution_count": 122,
   "metadata": {},
   "outputs": [],
   "source": [
    "in_dir = \"/mnt/nis_lab_research/data/coco_files/raw/shah_b1_539_21\"\n",
    "out_dir = \"/mnt/nis_lab_research/data/clip_data/test\"\n",
    "out_res_w = 224\n",
    "out_res_h = 224\n",
    "bg_color = \"white\"\n",
    "padding = 0.05"
   ]
  },
  {
   "cell_type": "markdown",
   "metadata": {},
   "source": [
    "## Preprocessing"
   ]
  },
  {
   "cell_type": "code",
   "execution_count": 123,
   "metadata": {},
   "outputs": [],
   "source": [
    "with open(os.path.join(in_dir, \"result.json\")) as f:\n",
    "    obj = json.load(f)"
   ]
  },
  {
   "cell_type": "code",
   "execution_count": 124,
   "metadata": {},
   "outputs": [],
   "source": [
    "img_list = obj[\"images\"]\n",
    "cat_list = obj[\"categories\"]\n",
    "ann_list = obj[\"annotations\"]"
   ]
  },
  {
   "cell_type": "code",
   "execution_count": 125,
   "metadata": {},
   "outputs": [
    {
     "data": {
      "text/plain": [
       "[{'id': 0, 'name': 'Accept Button'},\n",
       " {'id': 1, 'name': 'Address Input Box'},\n",
       " {'id': 2, 'name': 'Advertisement'},\n",
       " {'id': 3, 'name': 'Alert Notification'},\n",
       " {'id': 4, 'name': 'Allow Button'},\n",
       " {'id': 5, 'name': 'Checkbox'},\n",
       " {'id': 6, 'name': 'Click Captcha'},\n",
       " {'id': 7, 'name': 'Close Button'},\n",
       " {'id': 8, 'name': 'Download Button'},\n",
       " {'id': 9, 'name': 'Email Input Box'},\n",
       " {'id': 10, 'name': 'General Button'},\n",
       " {'id': 11, 'name': 'General Input Box'},\n",
       " {'id': 12, 'name': 'Image Captcha'},\n",
       " {'id': 13, 'name': 'Login Button'},\n",
       " {'id': 14, 'name': 'Logo'},\n",
       " {'id': 15, 'name': 'Name Input Box'},\n",
       " {'id': 16, 'name': 'Password Input Box'},\n",
       " {'id': 17, 'name': 'Phone Input Box'},\n",
       " {'id': 18, 'name': 'Play Button'},\n",
       " {'id': 19, 'name': 'Popup'},\n",
       " {'id': 20, 'name': 'Search Button'},\n",
       " {'id': 21, 'name': 'Search Input Box'},\n",
       " {'id': 22, 'name': 'Submit Button'},\n",
       " {'id': 23, 'name': 'Text Captcha'},\n",
       " {'id': 24, 'name': 'Toggle Button'},\n",
       " {'id': 25, 'name': 'Update Button'},\n",
       " {'id': 26, 'name': 'Video'}]"
      ]
     },
     "execution_count": 125,
     "metadata": {},
     "output_type": "execute_result"
    }
   ],
   "source": [
    "cat_list"
   ]
  },
  {
   "cell_type": "code",
   "execution_count": 126,
   "metadata": {},
   "outputs": [],
   "source": [
    "cat_map = []\n",
    "for cat in cat_list:\n",
    "    cat_map.append(cat[\"name\"])\n",
    "cat_map = sorted(cat_map)"
   ]
  },
  {
   "cell_type": "code",
   "execution_count": 127,
   "metadata": {},
   "outputs": [
    {
     "data": {
      "text/plain": [
       "['Accept Button',\n",
       " 'Address Input Box',\n",
       " 'Advertisement',\n",
       " 'Alert Notification',\n",
       " 'Allow Button',\n",
       " 'Checkbox',\n",
       " 'Click Captcha',\n",
       " 'Close Button',\n",
       " 'Download Button',\n",
       " 'Email Input Box',\n",
       " 'General Button',\n",
       " 'General Input Box',\n",
       " 'Image Captcha',\n",
       " 'Login Button',\n",
       " 'Logo',\n",
       " 'Name Input Box',\n",
       " 'Password Input Box',\n",
       " 'Phone Input Box',\n",
       " 'Play Button',\n",
       " 'Popup',\n",
       " 'Search Button',\n",
       " 'Search Input Box',\n",
       " 'Submit Button',\n",
       " 'Text Captcha',\n",
       " 'Toggle Button',\n",
       " 'Update Button',\n",
       " 'Video']"
      ]
     },
     "execution_count": 127,
     "metadata": {},
     "output_type": "execute_result"
    }
   ],
   "source": [
    "cat_map"
   ]
  },
  {
   "cell_type": "markdown",
   "metadata": {},
   "source": [
    "## Functions"
   ]
  },
  {
   "cell_type": "code",
   "execution_count": null,
   "metadata": {},
   "outputs": [],
   "source": []
  },
  {
   "cell_type": "code",
   "execution_count": null,
   "metadata": {},
   "outputs": [],
   "source": []
  },
  {
   "cell_type": "code",
   "execution_count": null,
   "metadata": {},
   "outputs": [],
   "source": [
    "\n"
   ]
  },
  {
   "cell_type": "code",
   "execution_count": null,
   "metadata": {},
   "outputs": [],
   "source": []
  },
  {
   "cell_type": "code",
   "execution_count": null,
   "metadata": {},
   "outputs": [],
   "source": []
  },
  {
   "cell_type": "code",
   "execution_count": null,
   "metadata": {},
   "outputs": [],
   "source": [
    "\n",
    "    "
   ]
  },
  {
   "cell_type": "markdown",
   "metadata": {},
   "source": [
    "## Main"
   ]
  },
  {
   "cell_type": "code",
   "execution_count": 128,
   "metadata": {},
   "outputs": [],
   "source": [
    "if not os.path.exists(out_dir):\n",
    "        os.makedirs(out_dir)\n",
    "for cat in cat_list:\n",
    "    os.makedirs(os.path.join(out_dir, cat[\"name\"]), exist_ok=True)"
   ]
  },
  {
   "cell_type": "code",
   "execution_count": 129,
   "metadata": {},
   "outputs": [
    {
     "name": "stdout",
     "output_type": "stream",
     "text": [
      "True\n"
     ]
    }
   ],
   "source": [
    "print(torch.cuda.is_available())"
   ]
  },
  {
   "cell_type": "code",
   "execution_count": 130,
   "metadata": {},
   "outputs": [],
   "source": [
    "torch.cuda.empty_cache()"
   ]
  },
  {
   "cell_type": "code",
   "execution_count": 131,
   "metadata": {},
   "outputs": [
    {
     "name": "stdout",
     "output_type": "stream",
     "text": [
      "0\n"
     ]
    },
    {
     "name": "stdout",
     "output_type": "stream",
     "text": [
      "Generated an exception: name 'out_dir' is not defined\n",
      "Generated an exception: name 'out_dir' is not defined\n",
      "Generated an exception: name 'out_dir' is not defined\n",
      "Generated an exception: name 'out_dir' is not defined\n",
      "Generated an exception: name 'out_dir' is not defined\n",
      "Generated an exception: name 'out_dir' is not defined\n",
      "Generated an exception: name 'out_dir' is not defined\n",
      "Generated an exception: name 'out_dir' is not defined\n",
      "Generated an exception: name 'out_dir' is not defined\n",
      "Generated an exception: name 'out_dir' is not defined\n",
      "Generated an exception: name 'out_dir' is not defined\n",
      "1\n",
      "Generated an exception: name 'out_dir' is not defined\n",
      "Generated an exception: name 'out_dir' is not defined\n",
      "Generated an exception: name 'out_dir' is not defined\n",
      "Generated an exception: name 'out_dir' is not defined\n",
      "Generated an exception: name 'out_dir' is not defined\n",
      "Generated an exception: name 'out_dir' is not defined\n",
      "Generated an exception: name 'out_dir' is not defined\n",
      "Generated an exception: name 'out_dir' is not defined\n",
      "Generated an exception: name 'out_dir' is not defined\n",
      "Generated an exception: name 'out_dir' is not defined\n",
      "Generated an exception: name 'out_dir' is not defined\n",
      "Generated an exception: name 'out_dir' is not defined\n",
      "Generated an exception: name 'out_dir' is not defined\n",
      "Generated an exception: name 'out_dir' is not defined\n",
      "Generated an exception: name 'out_dir' is not defined\n",
      "Generated an exception: name 'out_dir' is not defined\n",
      "Generated an exception: name 'out_dir' is not defined\n",
      "Generated an exception: name 'out_dir' is not defined\n",
      "Generated an exception: name 'out_dir' is not defined\n",
      "Generated an exception: name 'out_dir' is not defined\n",
      "Generated an exception: name 'out_dir' is not defined\n",
      "Generated an exception: name 'out_dir' is not defined\n",
      "Generated an exception: name 'out_dir' is not defined\n",
      "Generated an exception: name 'out_dir' is not defined\n",
      "Generated an exception: name 'out_dir' is not defined\n",
      "Generated an exception: name 'out_dir' is not defined\n",
      "Generated an exception: name 'out_dir' is not defined\n",
      "Generated an exception: name 'out_dir' is not defined\n",
      "Generated an exception: name 'out_dir' is not defined\n",
      "Generated an exception: name 'out_dir' is not defined\n",
      "Generated an exception: name 'out_dir' is not defined\n",
      "Generated an exception: name 'out_dir' is not defined\n",
      "2\n",
      "Generated an exception: name 'out_dir' is not defined\n",
      "Generated an exception: name 'out_dir' is not defined\n",
      "Generated an exception: name 'out_dir' is not defined\n",
      "Generated an exception: name 'out_dir' is not defined\n",
      "Generated an exception: name 'out_dir' is not defined\n",
      "Generated an exception: name 'out_dir' is not defined\n",
      "Generated an exception: name 'out_dir' is not defined\n",
      "Generated an exception: name 'out_dir' is not defined\n",
      "Generated an exception: name 'out_dir' is not defined\n",
      "Generated an exception: name 'out_dir' is not defined\n",
      "Generated an exception: name 'out_dir' is not defined\n",
      "Generated an exception: name 'out_dir' is not defined\n",
      "Generated an exception: name 'out_dir' is not defined\n",
      "Generated an exception: name 'out_dir' is not defined\n",
      "Generated an exception: name 'out_dir' is not defined\n",
      "Generated an exception: name 'out_dir' is not defined\n",
      "Generated an exception: name 'out_dir' is not defined\n",
      "Generated an exception: name 'out_dir' is not defined\n",
      "Generated an exception: name 'out_dir' is not defined\n",
      "Generated an exception: name 'out_dir' is not defined\n",
      "Generated an exception: name 'out_dir' is not defined\n",
      "Generated an exception: name 'out_dir' is not defined\n",
      "Generated an exception: name 'out_dir' is not defined\n",
      "Generated an exception: name 'out_dir' is not defined\n",
      "Generated an exception: name 'out_dir' is not defined\n",
      "Generated an exception: name 'out_dir' is not defined\n",
      "Generated an exception: name 'out_dir' is not defined\n",
      "Generated an exception: name 'out_dir' is not defined\n",
      "Generated an exception: name 'out_dir' is not defined\n",
      "Generated an exception: name 'out_dir' is not defined\n",
      "Generated an exception: name 'out_dir' is not defined\n",
      "Generated an exception: name 'out_dir' is not defined\n",
      "Generated an exception: name 'out_dir' is not defined\n",
      "Generated an exception: name 'out_dir' is not defined\n",
      "Generated an exception: name 'out_dir' is not defined\n",
      "Generated an exception: name 'out_dir' is not defined\n",
      "Generated an exception: name 'out_dir' is not defined\n",
      "Generated an exception: name 'out_dir' is not defined\n",
      "Generated an exception: name 'out_dir' is not defined\n",
      "Generated an exception: name 'out_dir' is not defined\n",
      "Generated an exception: name 'out_dir' is not defined\n",
      "Generated an exception: name 'out_dir' is not defined\n"
     ]
    },
    {
     "ename": "KeyboardInterrupt",
     "evalue": "",
     "output_type": "error",
     "traceback": [
      "\u001b[0;31m---------------------------------------------------------------------------\u001b[0m",
      "\u001b[0;31mKeyboardInterrupt\u001b[0m                         Traceback (most recent call last)",
      "Cell \u001b[0;32mIn[131], line 22\u001b[0m\n\u001b[1;32m     19\u001b[0m         futures[future] \u001b[38;5;241m=\u001b[39m (i, j)\n\u001b[1;32m     21\u001b[0m completed \u001b[38;5;241m=\u001b[39m \u001b[38;5;241m0\u001b[39m\n\u001b[0;32m---> 22\u001b[0m \u001b[43m\u001b[49m\u001b[38;5;28;43;01mfor\u001b[39;49;00m\u001b[43m \u001b[49m\u001b[43mfuture\u001b[49m\u001b[43m \u001b[49m\u001b[38;5;129;43;01min\u001b[39;49;00m\u001b[43m \u001b[49m\u001b[43mas_completed\u001b[49m\u001b[43m(\u001b[49m\u001b[43mfutures\u001b[49m\u001b[43m)\u001b[49m\u001b[43m:\u001b[49m\n\u001b[1;32m     23\u001b[0m \u001b[43m    \u001b[49m\u001b[38;5;28;43;01mtry\u001b[39;49;00m\u001b[43m:\u001b[49m\n\u001b[1;32m     24\u001b[0m \u001b[43m        \u001b[49m\u001b[43mresult\u001b[49m\u001b[43m \u001b[49m\u001b[38;5;241;43m=\u001b[39;49m\u001b[43m \u001b[49m\u001b[43mfuture\u001b[49m\u001b[38;5;241;43m.\u001b[39;49m\u001b[43mresult\u001b[49m\u001b[43m(\u001b[49m\u001b[43m)\u001b[49m\n",
      "File \u001b[0;32m~/miniconda3/envs/clip_venv/lib/python3.11/concurrent/futures/_base.py:243\u001b[0m, in \u001b[0;36mas_completed\u001b[0;34m(fs, timeout)\u001b[0m\n\u001b[1;32m    238\u001b[0m     \u001b[38;5;28;01mif\u001b[39;00m wait_timeout \u001b[38;5;241m<\u001b[39m \u001b[38;5;241m0\u001b[39m:\n\u001b[1;32m    239\u001b[0m         \u001b[38;5;28;01mraise\u001b[39;00m \u001b[38;5;167;01mTimeoutError\u001b[39;00m(\n\u001b[1;32m    240\u001b[0m                 \u001b[38;5;124m'\u001b[39m\u001b[38;5;132;01m%d\u001b[39;00m\u001b[38;5;124m (of \u001b[39m\u001b[38;5;132;01m%d\u001b[39;00m\u001b[38;5;124m) futures unfinished\u001b[39m\u001b[38;5;124m'\u001b[39m \u001b[38;5;241m%\u001b[39m (\n\u001b[1;32m    241\u001b[0m                 \u001b[38;5;28mlen\u001b[39m(pending), total_futures))\n\u001b[0;32m--> 243\u001b[0m \u001b[43mwaiter\u001b[49m\u001b[38;5;241;43m.\u001b[39;49m\u001b[43mevent\u001b[49m\u001b[38;5;241;43m.\u001b[39;49m\u001b[43mwait\u001b[49m\u001b[43m(\u001b[49m\u001b[43mwait_timeout\u001b[49m\u001b[43m)\u001b[49m\n\u001b[1;32m    245\u001b[0m \u001b[38;5;28;01mwith\u001b[39;00m waiter\u001b[38;5;241m.\u001b[39mlock:\n\u001b[1;32m    246\u001b[0m     finished \u001b[38;5;241m=\u001b[39m waiter\u001b[38;5;241m.\u001b[39mfinished_futures\n",
      "File \u001b[0;32m~/miniconda3/envs/clip_venv/lib/python3.11/threading.py:629\u001b[0m, in \u001b[0;36mEvent.wait\u001b[0;34m(self, timeout)\u001b[0m\n\u001b[1;32m    627\u001b[0m signaled \u001b[38;5;241m=\u001b[39m \u001b[38;5;28mself\u001b[39m\u001b[38;5;241m.\u001b[39m_flag\n\u001b[1;32m    628\u001b[0m \u001b[38;5;28;01mif\u001b[39;00m \u001b[38;5;129;01mnot\u001b[39;00m signaled:\n\u001b[0;32m--> 629\u001b[0m     signaled \u001b[38;5;241m=\u001b[39m \u001b[38;5;28;43mself\u001b[39;49m\u001b[38;5;241;43m.\u001b[39;49m\u001b[43m_cond\u001b[49m\u001b[38;5;241;43m.\u001b[39;49m\u001b[43mwait\u001b[49m\u001b[43m(\u001b[49m\u001b[43mtimeout\u001b[49m\u001b[43m)\u001b[49m\n\u001b[1;32m    630\u001b[0m \u001b[38;5;28;01mreturn\u001b[39;00m signaled\n",
      "File \u001b[0;32m~/miniconda3/envs/clip_venv/lib/python3.11/threading.py:327\u001b[0m, in \u001b[0;36mCondition.wait\u001b[0;34m(self, timeout)\u001b[0m\n\u001b[1;32m    325\u001b[0m \u001b[38;5;28;01mtry\u001b[39;00m:    \u001b[38;5;66;03m# restore state no matter what (e.g., KeyboardInterrupt)\u001b[39;00m\n\u001b[1;32m    326\u001b[0m     \u001b[38;5;28;01mif\u001b[39;00m timeout \u001b[38;5;129;01mis\u001b[39;00m \u001b[38;5;28;01mNone\u001b[39;00m:\n\u001b[0;32m--> 327\u001b[0m         \u001b[43mwaiter\u001b[49m\u001b[38;5;241;43m.\u001b[39;49m\u001b[43macquire\u001b[49m\u001b[43m(\u001b[49m\u001b[43m)\u001b[49m\n\u001b[1;32m    328\u001b[0m         gotit \u001b[38;5;241m=\u001b[39m \u001b[38;5;28;01mTrue\u001b[39;00m\n\u001b[1;32m    329\u001b[0m     \u001b[38;5;28;01melse\u001b[39;00m:\n",
      "\u001b[0;31mKeyboardInterrupt\u001b[0m: "
     ]
    }
   ],
   "source": [
    "set_start_method('spawn', True)\n",
    "print_lock = Lock()\n",
    "\n",
    "if __name__ == \"__main__\":\n",
    "\n",
    "    with ProcessPoolExecutor(max_workers=os.cpu_count()) as executor:\n",
    "        \n",
    "        futures = {}\n",
    "        for i, img in enumerate(img_list):\n",
    "            print(i)\n",
    "            img_bn = os.path.basename(img[\"file_name\"])[0:-4]\n",
    "            img_fp = os.path.join(in_dir, \"images\", os.path.basename(img[\"file_name\"]))\n",
    "            img_id = img[\"id\"]\n",
    "            for j, ann in enumerate(ann_list):\n",
    "                ann_img_id = ann[\"image_id\"]\n",
    "                cat_id = ann[\"category_id\"]\n",
    "                if img_id == ann_img_id:\n",
    "                    future = executor.submit(process_image_annotation, img_fp, out_dir, img_bn, ann, cat_map, cat_id, bg_color, out_res_w, out_res_h, j)\n",
    "                    futures[future] = (i, j)\n",
    "                \n",
    "            completed = 0\n",
    "            for future in as_completed(futures):\n",
    "                try:\n",
    "                    result = future.result()\n",
    "                    with print_lock:\n",
    "                        completed += 1\n",
    "                        print(f\"Completed images: {completed}, {futures[future]}\")\n",
    "                except Exception as exc:\n",
    "                    print(f\"Generated an exception: {exc}\")\n",
    "    "
   ]
  }
 ],
 "metadata": {
  "kernelspec": {
   "display_name": "pyt_venv",
   "language": "python",
   "name": "python3"
  },
  "language_info": {
   "codemirror_mode": {
    "name": "ipython",
    "version": 3
   },
   "file_extension": ".py",
   "mimetype": "text/x-python",
   "name": "python",
   "nbconvert_exporter": "python",
   "pygments_lexer": "ipython3",
   "version": "3.11.7"
  }
 },
 "nbformat": 4,
 "nbformat_minor": 2
}
