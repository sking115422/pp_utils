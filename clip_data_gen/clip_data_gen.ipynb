{
 "cells": [
  {
   "cell_type": "markdown",
   "metadata": {},
   "source": [
    "# Data Generation Script for Training Clip"
   ]
  },
  {
   "cell_type": "markdown",
   "metadata": {},
   "source": [
    "## Imports"
   ]
  },
  {
   "cell_type": "code",
   "execution_count": null,
   "metadata": {},
   "outputs": [],
   "source": [
    "import os\n",
    "import json\n",
    "import random\n",
    "import string\n",
    "from PIL import Image\n",
    "import pytesseract\n",
    "import easyocr\n",
    "import numpy as np\n",
    "import torch\n",
    "from multiprocessing import set_start_method\n",
    "from concurrent.futures import ThreadPoolExecutor, ProcessPoolExecutor, as_completed\n",
    "from threading import Lock\n",
    "from functions import *"
   ]
  },
  {
   "cell_type": "markdown",
   "metadata": {},
   "source": [
    "## Global Variables"
   ]
  },
  {
   "cell_type": "code",
   "execution_count": null,
   "metadata": {},
   "outputs": [],
   "source": [
    "in_dir = \"/mnt/nis_lab_research/data/coco_files/raw/shah_b1_539_21\"\n",
    "out_dir = \"/mnt/nis_lab_research/data/clip_data/test\"\n",
    "out_res_w = 224\n",
    "out_res_h = 224\n",
    "bg_color = \"white\"\n",
    "padding = 0.05"
   ]
  },
  {
   "cell_type": "markdown",
   "metadata": {},
   "source": [
    "## Preprocessing"
   ]
  },
  {
   "cell_type": "code",
   "execution_count": null,
   "metadata": {},
   "outputs": [],
   "source": [
    "with open(os.path.join(in_dir, \"result.json\")) as f:\n",
    "    obj = json.load(f)"
   ]
  },
  {
   "cell_type": "code",
   "execution_count": null,
   "metadata": {},
   "outputs": [],
   "source": [
    "img_list = obj[\"images\"]\n",
    "cat_list = obj[\"categories\"]\n",
    "ann_list = obj[\"annotations\"]"
   ]
  },
  {
   "cell_type": "code",
   "execution_count": null,
   "metadata": {},
   "outputs": [],
   "source": [
    "cat_map = []\n",
    "for cat in cat_list:\n",
    "    cat_map.append(cat[\"name\"])\n",
    "cat_map = sorted(cat_map)"
   ]
  },
  {
   "cell_type": "markdown",
   "metadata": {},
   "source": [
    "## Main"
   ]
  },
  {
   "cell_type": "code",
   "execution_count": null,
   "metadata": {},
   "outputs": [],
   "source": [
    "if not os.path.exists(out_dir):\n",
    "        os.makedirs(out_dir)\n",
    "for cat in cat_list:\n",
    "    os.makedirs(os.path.join(out_dir, cat[\"name\"]), exist_ok=True)"
   ]
  },
  {
   "cell_type": "code",
   "execution_count": null,
   "metadata": {},
   "outputs": [],
   "source": [
    "print(torch.cuda.is_available())"
   ]
  },
  {
   "cell_type": "code",
   "execution_count": null,
   "metadata": {},
   "outputs": [],
   "source": [
    "torch.cuda.empty_cache()"
   ]
  },
  {
   "cell_type": "code",
   "execution_count": null,
   "metadata": {},
   "outputs": [],
   "source": [
    "set_start_method('spawn', True)\n",
    "print_lock = Lock()\n",
    "\n",
    "if __name__ == \"__main__\":\n",
    "\n",
    "    with ProcessPoolExecutor(max_workers=os.cpu_count()) as executor:\n",
    "        \n",
    "        futures = {}\n",
    "        for i, img in enumerate(img_list):\n",
    "            print(i)\n",
    "            img_bn = os.path.basename(img[\"file_name\"])[0:-4]\n",
    "            img_fp = os.path.join(in_dir, \"images\", os.path.basename(img[\"file_name\"]))\n",
    "            img_id = img[\"id\"]\n",
    "            for j, ann in enumerate(ann_list):\n",
    "                ann_img_id = ann[\"image_id\"]\n",
    "                cat_id = ann[\"category_id\"]\n",
    "                if img_id == ann_img_id:\n",
    "                    future = executor.submit(process_image_annotation, img_fp, out_dir, img_bn, ann, cat_map, cat_id, bg_color, out_res_w, out_res_h, j)\n",
    "                    futures[future] = (i, j)\n",
    "                \n",
    "            completed = 0\n",
    "            for future in as_completed(futures):\n",
    "                try:\n",
    "                    result = future.result()\n",
    "                    with print_lock:\n",
    "                        completed += 1\n",
    "                        print(f\"Completed images: {completed}, {futures[future]}\")\n",
    "                except Exception as exc:\n",
    "                    print(f\"Generated an exception: {exc}\")\n",
    "    "
   ]
  }
 ],
 "metadata": {
  "kernelspec": {
   "display_name": "pyt_venv",
   "language": "python",
   "name": "python3"
  },
  "language_info": {
   "codemirror_mode": {
    "name": "ipython",
    "version": 3
   },
   "file_extension": ".py",
   "mimetype": "text/x-python",
   "name": "python",
   "nbconvert_exporter": "python",
   "pygments_lexer": "ipython3",
   "version": "3.11.7"
  }
 },
 "nbformat": 4,
 "nbformat_minor": 2
}
